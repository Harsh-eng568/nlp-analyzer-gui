{
  "nbformat": 4,
  "nbformat_minor": 0,
  "metadata": {
    "colab": {
      "provenance": [],
      "authorship_tag": "ABX9TyO969jodClZleN4v46mx/X2",
      "include_colab_link": true
    },
    "kernelspec": {
      "name": "python3",
      "display_name": "Python 3"
    },
    "language_info": {
      "name": "python"
    }
  },
  "cells": [
    {
      "cell_type": "markdown",
      "metadata": {
        "id": "view-in-github",
        "colab_type": "text"
      },
      "source": [
        "<a href=\"https://colab.research.google.com/github/Harsh-eng568/nlp-analyzer-gui/blob/main/mydb.ipynb\" target=\"_parent\"><img src=\"https://colab.research.google.com/assets/colab-badge.svg\" alt=\"Open In Colab\"/></a>"
      ]
    },
    {
      "cell_type": "code",
      "execution_count": null,
      "metadata": {
        "id": "zGTEMBtRTejj"
      },
      "outputs": [],
      "source": [
        "import json\n",
        "\n",
        "class Database:\n",
        "\n",
        "    def add_data(self,name,email,password):\n",
        "\n",
        "        with open('db.json','r') as rf:\n",
        "            database = json.load(rf)\n",
        "\n",
        "        if email in database:\n",
        "            return 0\n",
        "        else:\n",
        "            database[email] = [name,password]\n",
        "            with open('db.json','w') as wf:\n",
        "                json.dump(database,wf)\n",
        "            return 1\n",
        "    def search(self, email, password):\n",
        "        with open('db.json','r') as rf:\n",
        "            database = json.load(rf)\n",
        "\n",
        "        if email in database:\n",
        "            if database[email][1] == password:\n",
        "                return 1\n",
        "            else:\n",
        "                return 0\n",
        "        else:\n",
        "            return 0"
      ]
    }
  ]
}