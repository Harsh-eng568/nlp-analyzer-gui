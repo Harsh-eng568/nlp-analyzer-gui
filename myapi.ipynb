{
  "nbformat": 4,
  "nbformat_minor": 0,
  "metadata": {
    "colab": {
      "provenance": [],
      "authorship_tag": "ABX9TyMhlgrGhhUE4nPbh4huyzeC",
      "include_colab_link": true
    },
    "kernelspec": {
      "name": "python3",
      "display_name": "Python 3"
    },
    "language_info": {
      "name": "python"
    }
  },
  "cells": [
    {
      "cell_type": "markdown",
      "metadata": {
        "id": "view-in-github",
        "colab_type": "text"
      },
      "source": [
        "<a href=\"https://colab.research.google.com/github/Harsh-eng568/nlp-analyzer-gui/blob/main/myapi.ipynb\" target=\"_parent\"><img src=\"https://colab.research.google.com/assets/colab-badge.svg\" alt=\"Open In Colab\"/></a>"
      ]
    },
    {
      "cell_type": "code",
      "execution_count": null,
      "metadata": {
        "id": "NZhNpzmRTNDz"
      },
      "outputs": [],
      "source": [
        "import paralleldots\n",
        "\n",
        "class API:\n",
        "    def __init__(self):\n",
        "        paralleldots.set_api_key('IH4OCcC3pwUFU6jRcoyzug4ShpopFEtpLFigQEZImmk')\n",
        "\n",
        "    def sentiment_analysis(self, text):\n",
        "        response = paralleldots.sentiment(text, lang_code='en')\n",
        "        sentiment = max(response['sentiment'], key=response['sentiment'].get)\n",
        "        return sentiment\n",
        "\n",
        "    def ner(self, text):\n",
        "        return paralleldots.ner(text)\n",
        "\n",
        "    def emotion_prediction(self, text):\n",
        "        return paralleldots.emotion(text)"
      ]
    }
  ]
}